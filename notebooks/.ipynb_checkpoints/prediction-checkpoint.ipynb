{
 "cells": [
  {
   "cell_type": "code",
   "execution_count": null,
   "id": "80ccfd85-15a7-439c-a763-d5a5a86e090f",
   "metadata": {},
   "outputs": [],
   "source": [
    "import pandas as pd\n",
    "import joblib"
   ]
  },
  {
   "cell_type": "code",
   "execution_count": null,
   "id": "393f4246-1e20-4ec9-af3d-3d9c074f66bd",
   "metadata": {},
   "outputs": [],
   "source": [
    "# Load the saved model and scaler\n",
    "model = joblib.load(\"../models/anomaly_detector_model.pkl\")\n",
    "scaler = joblib.load(\"../models/scaler.pkl\")"
   ]
  },
  {
   "cell_type": "code",
   "execution_count": null,
   "id": "5d47da01-9cdb-4113-850c-274ee480d522",
   "metadata": {},
   "outputs": [],
   "source": [
    "# Load new data - rename new data file to new_data.xlsx\n",
    "new_data = pd.read_excel(\"../data/new_data.xlsx\")"
   ]
  },
  {
   "cell_type": "code",
   "execution_count": null,
   "id": "6c98aa34-ea07-411e-9a12-904432e1850a",
   "metadata": {},
   "outputs": [],
   "source": [
    "# Preprocess the new data (ensure consistent processing steps)\n",
    "new_data_cleaned = new_data.copy()"
   ]
  },
  {
   "cell_type": "code",
   "execution_count": null,
   "id": "4ed4ecc1-414f-457d-902a-1f448a4aff49",
   "metadata": {},
   "outputs": [],
   "source": [
    "# Drop any irrelevant columns, if needed (e.g., 'time')\n",
    "if 'time' in new_data_cleaned.columns:\n",
    "    new_data_cleaned = new_data_cleaned.drop(columns=['time'], errors='ignore')"
   ]
  },
  {
   "cell_type": "code",
   "execution_count": null,
   "id": "3e4e9f79-cb7b-470a-9e09-fa668bb2eb9e",
   "metadata": {},
   "outputs": [],
   "source": [
    "# Handle missing values\n",
    "new_data_cleaned.fillna(new_data_cleaned.mean(), inplace=True)"
   ]
  },
  {
   "cell_type": "code",
   "execution_count": null,
   "id": "0f1742ac-7d1d-4f1b-9d3d-317301e70491",
   "metadata": {},
   "outputs": [],
   "source": [
    "# Feature scaling\n",
    "new_data_scaled = scaler.transform(new_data_cleaned)"
   ]
  },
  {
   "cell_type": "code",
   "execution_count": null,
   "id": "f00b29c7-b2d9-419b-85ac-332bdbd0eb18",
   "metadata": {},
   "outputs": [],
   "source": [
    "# Predict anomalies\n",
    "predictions = model.predict(new_data_scaled)\n",
    "prediction_probabilities = model.predict_proba(new_data_scaled)[:, 1]"
   ]
  },
  {
   "cell_type": "code",
   "execution_count": null,
   "id": "743bc4c1-9e7b-46b6-8d52-d17e86480f13",
   "metadata": {},
   "outputs": [],
   "source": [
    "# Add predictions to the original data\n",
    "new_data['Anomaly_Prediction'] = predictions\n",
    "new_data['Anomaly_Probability'] = prediction_probabilities"
   ]
  },
  {
   "cell_type": "code",
   "execution_count": null,
   "id": "155e3574-0de7-4160-97ae-07f010b11c08",
   "metadata": {},
   "outputs": [],
   "source": [
    "# Save predictions to a new CSV file\n",
    "new_data.to_csv(\"predictions.csv\", index=False)\n",
    "\n",
    "# Print summary\n",
    "print(\"Predictions saved to 'predictions.csv'\")"
   ]
  }
 ],
 "metadata": {
  "kernelspec": {
   "display_name": "Python 3 (ipykernel)",
   "language": "python",
   "name": "python3"
  },
  "language_info": {
   "codemirror_mode": {
    "name": "ipython",
    "version": 3
   },
   "file_extension": ".py",
   "mimetype": "text/x-python",
   "name": "python",
   "nbconvert_exporter": "python",
   "pygments_lexer": "ipython3",
   "version": "3.11.7"
  }
 },
 "nbformat": 4,
 "nbformat_minor": 5
}
